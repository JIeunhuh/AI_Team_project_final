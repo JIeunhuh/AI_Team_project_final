{
 "cells": [
  {
   "cell_type": "markdown",
   "metadata": {},
   "source": [
    "### 라이브러리 설치"
   ]
  },
  {
   "cell_type": "code",
   "execution_count": null,
   "metadata": {},
   "outputs": [],
   "source": [
    "!pip install datasets\n",
    "!pip install transformers\n",
    "!pip install transformers[torch]\n",
    "!pip install accelerate -U\n",
    "!pip install transformers[torch] --upgrade\n",
    "!pip install accelerate --upgrade\n",
    "!pip install evaluate\n",
    "!pip install rouge_score"
   ]
  },
  {
   "cell_type": "markdown",
   "metadata": {},
   "source": [
    "###  데이터 경로 설정"
   ]
  },
  {
   "cell_type": "code",
   "execution_count": 15,
   "metadata": {},
   "outputs": [],
   "source": [
    "image_dir = \"./test10img\"\n",
    "train_caption_dir = \"train_renew.json\"\n",
    "test_caption_dir = \"test_renew.json\"\n",
    "val_caption_dir = \"val_renew.json\""
   ]
  },
  {
   "cell_type": "markdown",
   "metadata": {},
   "source": [
    "### 이미지 개수 확인"
   ]
  },
  {
   "cell_type": "code",
   "execution_count": 12,
   "metadata": {},
   "outputs": [
    {
     "name": "stdout",
     "output_type": "stream",
     "text": [
      "폴더 './test10img' 내에 2551 개의 이미지 파일이 있습니다.\n"
     ]
    }
   ],
   "source": [
    "from PIL import Image\n",
    "import os\n",
    "\n",
    "# 폴더 내의 이미지 파일 목록 가져오기\n",
    "image_files = [f for f in os.listdir(image_dir) if os.path.isfile(os.path.join(image_dir, f))]\n",
    "\n",
    "\n",
    "# 이미지 파일의 확장자를 확인하고 갯수 counting\n",
    "image_extensions = ['.jpg', '.jpeg', '.png']\n",
    "image_count = sum(1 for f in image_files if any(f.endswith(ext) for ext in image_extensions))\n",
    "\n",
    "\n",
    "print(f\"폴더 '{image_dir}' 내에 {image_count} 개의 이미지 파일이 있습니다.\")"
   ]
  },
  {
   "cell_type": "markdown",
   "metadata": {},
   "source": [
    "### 라이브러리 Import"
   ]
  },
  {
   "cell_type": "code",
   "execution_count": 3,
   "metadata": {},
   "outputs": [],
   "source": [
    "import os\n",
    "import datasets\n",
    "from transformers import VisionEncoderDecoderModel, AutoFeatureExtractor,AutoTokenizer\n",
    "os.environ[\"WANDB_DISABLED\"] = \"true\"\n",
    "import nltk\n",
    "try:\n",
    "    nltk.data.find(\"tokenizers/punkt\")\n",
    "except (LookupError, OSError):\n",
    "    nltk.download(\"punkt\", quiet=True)"
   ]
  },
  {
   "cell_type": "markdown",
   "metadata": {},
   "source": [
    "### VisionEncoderDecoderModel 초기화"
   ]
  },
  {
   "cell_type": "code",
   "execution_count": 4,
   "metadata": {},
   "outputs": [
    {
     "name": "stderr",
     "output_type": "stream",
     "text": [
      "Some weights of GPT2LMHeadModel were not initialized from the model checkpoint at gpt2 and are newly initialized: ['h.1.crossattention.q_attn.bias', 'h.1.ln_cross_attn.weight', 'h.3.crossattention.c_attn.bias', 'h.8.crossattention.q_attn.bias', 'h.10.crossattention.q_attn.bias', 'h.3.ln_cross_attn.bias', 'h.3.crossattention.q_attn.bias', 'h.4.crossattention.c_attn.bias', 'h.0.crossattention.c_attn.weight', 'h.6.ln_cross_attn.bias', 'h.4.ln_cross_attn.bias', 'h.10.crossattention.c_proj.weight', 'h.9.crossattention.q_attn.weight', 'h.6.crossattention.c_attn.weight', 'h.6.ln_cross_attn.weight', 'h.2.ln_cross_attn.bias', 'h.1.ln_cross_attn.bias', 'h.4.crossattention.c_attn.weight', 'h.8.ln_cross_attn.weight', 'h.8.ln_cross_attn.bias', 'h.5.crossattention.q_attn.bias', 'h.1.crossattention.c_proj.bias', 'h.4.crossattention.c_proj.weight', 'h.4.ln_cross_attn.weight', 'h.7.crossattention.c_attn.bias', 'h.11.crossattention.c_proj.bias', 'h.8.crossattention.c_proj.weight', 'h.11.crossattention.c_attn.bias', 'h.11.crossattention.q_attn.weight', 'h.4.crossattention.q_attn.weight', 'h.2.crossattention.c_attn.bias', 'h.8.crossattention.q_attn.weight', 'h.6.crossattention.q_attn.bias', 'h.2.crossattention.q_attn.weight', 'h.2.crossattention.c_proj.bias', 'h.7.ln_cross_attn.weight', 'h.8.crossattention.c_attn.bias', 'h.11.crossattention.c_proj.weight', 'h.5.crossattention.c_proj.bias', 'h.7.crossattention.c_proj.bias', 'h.2.crossattention.c_proj.weight', 'h.6.crossattention.c_proj.bias', 'h.3.ln_cross_attn.weight', 'h.10.crossattention.c_attn.bias', 'h.3.crossattention.q_attn.weight', 'h.1.crossattention.c_attn.weight', 'h.9.crossattention.c_attn.weight', 'h.3.crossattention.c_proj.bias', 'h.5.crossattention.c_proj.weight', 'h.7.crossattention.c_proj.weight', 'h.0.crossattention.c_proj.bias', 'h.7.crossattention.q_attn.bias', 'h.5.ln_cross_attn.bias', 'h.6.crossattention.c_attn.bias', 'h.11.crossattention.c_attn.weight', 'h.9.ln_cross_attn.bias', 'h.5.ln_cross_attn.weight', 'h.9.ln_cross_attn.weight', 'h.3.crossattention.c_attn.weight', 'h.2.ln_cross_attn.weight', 'h.4.crossattention.q_attn.bias', 'h.3.crossattention.c_proj.weight', 'h.5.crossattention.q_attn.weight', 'h.10.ln_cross_attn.bias', 'h.0.crossattention.c_proj.weight', 'h.2.crossattention.q_attn.bias', 'h.9.crossattention.q_attn.bias', 'h.6.crossattention.c_proj.weight', 'h.1.crossattention.c_attn.bias', 'h.5.crossattention.c_attn.bias', 'h.0.crossattention.q_attn.weight', 'h.11.crossattention.q_attn.bias', 'h.10.crossattention.c_attn.weight', 'h.9.crossattention.c_attn.bias', 'h.7.crossattention.q_attn.weight', 'h.0.crossattention.q_attn.bias', 'h.9.crossattention.c_proj.bias', 'h.11.ln_cross_attn.weight', 'h.5.crossattention.c_attn.weight', 'h.6.crossattention.q_attn.weight', 'h.1.crossattention.q_attn.weight', 'h.10.crossattention.c_proj.bias', 'h.4.crossattention.c_proj.bias', 'h.11.ln_cross_attn.bias', 'h.7.ln_cross_attn.bias', 'h.10.crossattention.q_attn.weight', 'h.8.crossattention.c_attn.weight', 'h.0.ln_cross_attn.weight', 'h.7.crossattention.c_attn.weight', 'h.8.crossattention.c_proj.bias', 'h.9.crossattention.c_proj.weight', 'h.1.crossattention.c_proj.weight', 'h.2.crossattention.c_attn.weight', 'h.0.ln_cross_attn.bias', 'h.10.ln_cross_attn.weight', 'h.0.crossattention.c_attn.bias']\n",
      "You should probably TRAIN this model on a down-stream task to be able to use it for predictions and inference.\n"
     ]
    }
   ],
   "source": [
    "from transformers import VisionEncoderDecoderModel, AutoTokenizer, AutoFeatureExtractor\n",
    "\n",
    "image_encoder_model = \"google/vit-base-patch16-224-in21k\"\n",
    "text_decode_model = \"gpt2\"\n",
    "\n",
    "model = VisionEncoderDecoderModel.from_encoder_decoder_pretrained(\n",
    "    image_encoder_model, text_decode_model)"
   ]
  },
  {
   "cell_type": "code",
   "execution_count": 5,
   "metadata": {},
   "outputs": [
    {
     "name": "stderr",
     "output_type": "stream",
     "text": [
      "c:\\Users\\user\\AppData\\Local\\Programs\\Python\\Python311\\Lib\\site-packages\\transformers\\models\\vit\\feature_extraction_vit.py:28: FutureWarning: The class ViTFeatureExtractor is deprecated and will be removed in version 5 of Transformers. Please use ViTImageProcessor instead.\n",
      "  warnings.warn(\n"
     ]
    }
   ],
   "source": [
    "# 이미지 특성 추출기 설정\n",
    "feature_extractor = AutoFeatureExtractor.from_pretrained(image_encoder_model)\n",
    "\n",
    "# 텍스트 토크나이저 설정\n",
    "tokenizer = AutoTokenizer.from_pretrained(text_decode_model)"
   ]
  },
  {
   "cell_type": "code",
   "execution_count": 6,
   "metadata": {},
   "outputs": [],
   "source": [
    "# GPT-2 모델은 bos/eos 토큰만 가지고 있으며 decoder_start/pad 토큰은 가지고 있지 않음.\n",
    "# 따라서 pad_token을 eos_token으로 설정.\n",
    "tokenizer.pad_token = tokenizer.eos_token\n",
    "\n",
    "# 모델 구성 업데이트: eos_token_id, decoder_start_token_id 및 pad_token_id를 토크나이저에서 가져온 값으로 설정.\n",
    "model.config.eos_token_id = tokenizer.eos_token_id\n",
    "model.config.decoder_start_token_id = tokenizer.bos_token_id\n",
    "model.config.pad_token_id = tokenizer.pad_token_id"
   ]
  },
  {
   "cell_type": "code",
   "execution_count": 7,
   "metadata": {},
   "outputs": [
    {
     "data": {
      "text/plain": [
       "('vit-gpt-model\\\\tokenizer_config.json',\n",
       " 'vit-gpt-model\\\\special_tokens_map.json',\n",
       " 'vit-gpt-model\\\\vocab.json',\n",
       " 'vit-gpt-model\\\\merges.txt',\n",
       " 'vit-gpt-model\\\\added_tokens.json',\n",
       " 'vit-gpt-model\\\\tokenizer.json')"
      ]
     },
     "execution_count": 7,
     "metadata": {},
     "output_type": "execute_result"
    }
   ],
   "source": [
    "output_dir = \"vit-gpt-model\"\n",
    "model.save_pretrained(output_dir)\n",
    "feature_extractor.save_pretrained(output_dir)\n",
    "tokenizer.save_pretrained(output_dir)"
   ]
  },
  {
   "cell_type": "markdown",
   "metadata": {},
   "source": [
    "### Dataset 불러오기"
   ]
  },
  {
   "cell_type": "code",
   "execution_count": 16,
   "metadata": {},
   "outputs": [
    {
     "data": {
      "application/vnd.jupyter.widget-view+json": {
       "model_id": "35b15a15d6a6490ebcd9f1ef014cf850",
       "version_major": 2,
       "version_minor": 0
      },
      "text/plain": [
       "Downloading data files:   0%|          | 0/3 [00:00<?, ?it/s]"
      ]
     },
     "metadata": {},
     "output_type": "display_data"
    },
    {
     "data": {
      "application/vnd.jupyter.widget-view+json": {
       "model_id": "3db8360bcc0c43098a4b4d72cb5387b9",
       "version_major": 2,
       "version_minor": 0
      },
      "text/plain": [
       "Extracting data files:   0%|          | 0/3 [00:00<?, ?it/s]"
      ]
     },
     "metadata": {},
     "output_type": "display_data"
    },
    {
     "data": {
      "application/vnd.jupyter.widget-view+json": {
       "model_id": "f355ef948f0542fa9d3d5472ab7fc295",
       "version_major": 2,
       "version_minor": 0
      },
      "text/plain": [
       "Generating train split: 0 examples [00:00, ? examples/s]"
      ]
     },
     "metadata": {},
     "output_type": "display_data"
    },
    {
     "data": {
      "application/vnd.jupyter.widget-view+json": {
       "model_id": "bd68c62a7a694e70853277b7cadcb9d1",
       "version_major": 2,
       "version_minor": 0
      },
      "text/plain": [
       "Generating test split: 0 examples [00:00, ? examples/s]"
      ]
     },
     "metadata": {},
     "output_type": "display_data"
    },
    {
     "data": {
      "application/vnd.jupyter.widget-view+json": {
       "model_id": "baa14ab9dc0d48e7b9b720918995b9be",
       "version_major": 2,
       "version_minor": 0
      },
      "text/plain": [
       "Generating validation split: 0 examples [00:00, ? examples/s]"
      ]
     },
     "metadata": {},
     "output_type": "display_data"
    },
    {
     "name": "stdout",
     "output_type": "stream",
     "text": [
      "DatasetDict({\n",
      "    train: Dataset({\n",
      "        features: ['width', 'image_id', 'coco_url', 'caption', 'file_name', 'caption_id', 'image_path', 'height'],\n",
      "        num_rows: 1785\n",
      "    })\n",
      "    test: Dataset({\n",
      "        features: ['width', 'image_id', 'coco_url', 'caption', 'file_name', 'caption_id', 'image_path', 'height'],\n",
      "        num_rows: 384\n",
      "    })\n",
      "    validation: Dataset({\n",
      "        features: ['width', 'image_id', 'coco_url', 'caption', 'file_name', 'caption_id', 'image_path', 'height'],\n",
      "        num_rows: 382\n",
      "    })\n",
      "})\n"
     ]
    }
   ],
   "source": [
    "import datasets\n",
    "\n",
    "# JSON 파일의 경로를 딕셔너리로 정의합니다.\n",
    "data_files = {\n",
    "    \"train\": train_caption_dir,\n",
    "    \"test\": test_caption_dir,\n",
    "    \"validation\": val_caption_dir\n",
    "}\n",
    "\n",
    "# 데이터셋을 로드합니다. 필드명을 'annotations'로 지정합니다.\n",
    "ds = datasets.load_dataset(\"json\", data_files=data_files, field='images')\n",
    "\n",
    "# 데이터셋 구조를 확인합니다.\n",
    "print(ds)"
   ]
  },
  {
   "cell_type": "code",
   "execution_count": 17,
   "metadata": {},
   "outputs": [
    {
     "data": {
      "text/plain": [
       "{'width': 600,\n",
       " 'image_id': 2,\n",
       " 'coco_url': 'https://example.com/images/glass2.jpg',\n",
       " 'caption': 'glass.',\n",
       " 'file_name': 'glass2.jpg',\n",
       " 'caption_id': 2,\n",
       " 'image_path': 'C:/Ye_Dong/AI_Team_project_final/Data/test10/test10img/glass2.jpg',\n",
       " 'height': 800}"
      ]
     },
     "execution_count": 17,
     "metadata": {},
     "output_type": "execute_result"
    }
   ],
   "source": [
    "# 첫번째 요소 확인\n",
    "ds['train'][0]"
   ]
  },
  {
   "cell_type": "markdown",
   "metadata": {},
   "source": [
    "### 전처리(이미지, caption)"
   ]
  },
  {
   "cell_type": "code",
   "execution_count": 18,
   "metadata": {},
   "outputs": [],
   "source": [
    "from PIL import Image\n",
    "\n",
    "# 텍스트 전처리 단계\n",
    "def tokenization_fn(captions, max_target_length):\n",
    "    \"\"\"캡션에 대한 토큰화를 실행.\"\"\"\n",
    "    # captions을 토크나이저를 사용하여 처리하고, max_target_length로 지정된 길이로 패딩.\n",
    "    labels = tokenizer(captions,\n",
    "                      padding=\"max_length\",\n",
    "                      max_length=max_target_length).input_ids\n",
    "\n",
    "    return labels\n",
    "\n",
    "# 이미지 전처리 단계\n",
    "def feature_extraction_fn(image_paths, check_image=True):\n",
    "    \"\"\"\n",
    "    이미지에 대한 특성 추출을 실행.\n",
    "    `check_image`가 `True`인 경우 `Image.open()` 중에 오류가 발생하는 example은 잡히고 제거.\n",
    "    그렇지 않으면 예외가 발생.\n",
    "    \"\"\"\n",
    "\n",
    "    model_inputs = {}\n",
    "\n",
    "    if check_image:\n",
    "        images = []\n",
    "        to_keep = []\n",
    "        for image_file in image_paths:\n",
    "            try:\n",
    "                img = Image.open(image_file)\n",
    "                images.append(img)\n",
    "                to_keep.append(True)\n",
    "            except Exception:\n",
    "                to_keep.append(False)\n",
    "    else:\n",
    "        images = [Image.open(image_file) for image_file in image_paths]\n",
    "\n",
    "    encoder_inputs = feature_extractor(images=images, return_tensors=\"np\")\n",
    "\n",
    "    return encoder_inputs.pixel_values\n",
    "\n",
    "def preprocess_fn(examples, max_target_length, check_image=True):\n",
    "    \"\"\"토큰화 및 이미지 특성 추출 실행\"\"\"\n",
    "    image_paths = examples['image_path']\n",
    "    captions = examples['caption']\n",
    "\n",
    "    model_inputs = {}\n",
    "    # 이 부분은 image_paths 열을 포함\n",
    "    model_inputs['labels'] = tokenization_fn(captions, max_target_length)\n",
    "    model_inputs['pixel_values'] = feature_extraction_fn(image_paths, check_image=check_image)\n",
    "\n",
    "    return model_inputs\n"
   ]
  },
  {
   "cell_type": "code",
   "execution_count": 19,
   "metadata": {},
   "outputs": [
    {
     "data": {
      "application/vnd.jupyter.widget-view+json": {
       "model_id": "d0657a0677ee435090ed18a85a7301a3",
       "version_major": 2,
       "version_minor": 0
      },
      "text/plain": [
       "Map:   0%|          | 0/1785 [00:00<?, ? examples/s]"
      ]
     },
     "metadata": {},
     "output_type": "display_data"
    },
    {
     "data": {
      "application/vnd.jupyter.widget-view+json": {
       "model_id": "1a69da5e76b5436db7b1572c583af0e1",
       "version_major": 2,
       "version_minor": 0
      },
      "text/plain": [
       "Map:   0%|          | 0/384 [00:00<?, ? examples/s]"
      ]
     },
     "metadata": {},
     "output_type": "display_data"
    },
    {
     "data": {
      "application/vnd.jupyter.widget-view+json": {
       "model_id": "b21ae43c1efa4e0aaba2a8bb3b54b88b",
       "version_major": 2,
       "version_minor": 0
      },
      "text/plain": [
       "Map:   0%|          | 0/382 [00:00<?, ? examples/s]"
      ]
     },
     "metadata": {},
     "output_type": "display_data"
    }
   ],
   "source": [
    "processed_dataset = ds.map(\n",
    "    function=preprocess_fn,\n",
    "    batched=True,\n",
    "    fn_kwargs={\"max_target_length\": 500},\n",
    "    remove_columns=ds['train'].column_names\n",
    ")"
   ]
  },
  {
   "cell_type": "code",
   "execution_count": 20,
   "metadata": {},
   "outputs": [
    {
     "data": {
      "text/plain": [
       "DatasetDict({\n",
       "    train: Dataset({\n",
       "        features: ['labels', 'pixel_values'],\n",
       "        num_rows: 1785\n",
       "    })\n",
       "    test: Dataset({\n",
       "        features: ['labels', 'pixel_values'],\n",
       "        num_rows: 384\n",
       "    })\n",
       "    validation: Dataset({\n",
       "        features: ['labels', 'pixel_values'],\n",
       "        num_rows: 382\n",
       "    })\n",
       "})"
      ]
     },
     "execution_count": 20,
     "metadata": {},
     "output_type": "execute_result"
    }
   ],
   "source": [
    "processed_dataset"
   ]
  },
  {
   "cell_type": "markdown",
   "metadata": {},
   "source": [
    "### seq2seq train 인수 정의"
   ]
  },
  {
   "cell_type": "code",
   "execution_count": 21,
   "metadata": {},
   "outputs": [
    {
     "name": "stderr",
     "output_type": "stream",
     "text": [
      "Using the `WANDB_DISABLED` environment variable is deprecated and will be removed in v5. Use the --report_to flag to control the integrations used for logging result (for instance --report_to none).\n"
     ]
    }
   ],
   "source": [
    "from transformers import Seq2SeqTrainer, Seq2SeqTrainingArguments\n",
    "\n",
    "training_args = Seq2SeqTrainingArguments(\n",
    "    predict_with_generate=True,\n",
    "    evaluation_strategy=\"epoch\",\n",
    "    per_device_train_batch_size=4,\n",
    "    per_device_eval_batch_size=4,\n",
    "    output_dir=\"./image-captioning-output\",\n",
    ")"
   ]
  },
  {
   "cell_type": "markdown",
   "metadata": {},
   "source": [
    "### 학습 요건 설정 및 학습"
   ]
  },
  {
   "cell_type": "code",
   "execution_count": 22,
   "metadata": {},
   "outputs": [],
   "source": [
    "import evaluate\n",
    "metric = evaluate.load(\"rouge\")"
   ]
  },
  {
   "cell_type": "code",
   "execution_count": 23,
   "metadata": {},
   "outputs": [],
   "source": [
    "import numpy as np\n",
    "\n",
    "# 손실 계산 시 패드 토큰 무시 설정\n",
    "ignore_pad_token_for_loss = True\n",
    "\n",
    "def postprocess_text(preds, labels):\n",
    "    # 예측값 및 실제값에서 불필요한 공백 제거\n",
    "    preds = [pred.strip() for pred in preds]\n",
    "    labels = [label.strip() for label in labels]\n",
    "\n",
    "    # rougeLSum은 각 문장 뒤에 새 줄 문자를 예상.\n",
    "    preds = [\"\\n\".join(nltk.sent_tokenize(pred)) for pred in preds]\n",
    "    labels = [\"\\n\".join(nltk.sent_tokenize(label)) for label in labels]\n",
    "\n",
    "    return preds, labels\n",
    "\n",
    "def compute_metrics(eval_preds):\n",
    "    preds, labels = eval_preds\n",
    "    if isinstance(preds, tuple):\n",
    "        preds = preds[0]\n",
    "\n",
    "    # 토큰화된 예측값과 실제값을 디코딩하여 읽을 수 있는 텍스트로 변환\n",
    "    decoded_preds = tokenizer.batch_decode(preds, skip_special_tokens=True)\n",
    "\n",
    "    if ignore_pad_token_for_loss:\n",
    "        # -100인 레이블을 변환하여 디코드할 수 없으므로 패드 토큰으로 대체\n",
    "        labels = np.where(labels != -100, labels, tokenizer.pad_token_id)\n",
    "\n",
    "    decoded_labels = tokenizer.batch_decode(labels, skip_special_tokens=True)\n",
    "\n",
    "    # 일부 간단한 후처리\n",
    "    decoded_preds, decoded_labels = postprocess_text(decoded_preds, decoded_labels)\n",
    "\n",
    "    # metric 계산\n",
    "    result = metric.compute(predictions=decoded_preds,\n",
    "                            references=decoded_labels,\n",
    "                            use_stemmer=True)\n",
    "\n",
    "    # 결과를 백분율로 변환하고 소수점 네 자리까지 반올림\n",
    "    result = {k: round(v * 100, 4) for k, v in result.items()}\n",
    "\n",
    "    # 생성된 텍스트의 평균 길이 계산\n",
    "    prediction_lens = [\n",
    "        np.count_nonzero(pred != tokenizer.pad_token_id) for pred in preds\n",
    "    ]\n",
    "    result[\"gen_len\"] = np.mean(prediction_lens)\n",
    "\n",
    "    return result\n"
   ]
  },
  {
   "cell_type": "code",
   "execution_count": 24,
   "metadata": {},
   "outputs": [],
   "source": [
    "from transformers import default_data_collator\n",
    "\n",
    "# instantiate trainer\n",
    "trainer = Seq2SeqTrainer(\n",
    "    model=model,\n",
    "    tokenizer=feature_extractor,\n",
    "    args=training_args,\n",
    "    compute_metrics=compute_metrics,\n",
    "    train_dataset=processed_dataset['train'],\n",
    "    eval_dataset=processed_dataset['validation'],\n",
    "    data_collator=default_data_collator,\n",
    ")"
   ]
  },
  {
   "cell_type": "code",
   "execution_count": 25,
   "metadata": {},
   "outputs": [
    {
     "data": {
      "application/vnd.jupyter.widget-view+json": {
       "model_id": "599f79d910624a2fa49cc09209f8690f",
       "version_major": 2,
       "version_minor": 0
      },
      "text/plain": [
       "  0%|          | 0/1341 [00:00<?, ?it/s]"
      ]
     },
     "metadata": {},
     "output_type": "display_data"
    },
    {
     "name": "stderr",
     "output_type": "stream",
     "text": [
      "c:\\Users\\user\\AppData\\Local\\Programs\\Python\\Python311\\Lib\\site-packages\\transformers\\generation\\utils.py:1417: UserWarning: You have modified the pretrained model configuration to control generation. This is a deprecated strategy to control generation and will be removed soon, in a future version. Please use a generation configuration file (see https://huggingface.co/docs/transformers/main_classes/text_generation )\n",
      "  warnings.warn(\n"
     ]
    },
    {
     "data": {
      "application/vnd.jupyter.widget-view+json": {
       "model_id": "556808662ff3471aa5d74a977b2706f7",
       "version_major": 2,
       "version_minor": 0
      },
      "text/plain": [
       "  0%|          | 0/96 [00:00<?, ?it/s]"
      ]
     },
     "metadata": {},
     "output_type": "display_data"
    },
    {
     "name": "stdout",
     "output_type": "stream",
     "text": [
      "{'eval_loss': 0.0025906322989612818, 'eval_rouge1': 84.3794, 'eval_rouge2': 0.3348, 'eval_rougeL': 84.4917, 'eval_rougeLsum': 84.5201, 'eval_gen_len': 2.424083769633508, 'eval_runtime': 474.8085, 'eval_samples_per_second': 0.805, 'eval_steps_per_second': 0.202, 'epoch': 1.0}\n",
      "{'loss': 0.0356, 'learning_rate': 3.135719612229679e-05, 'epoch': 1.12}\n"
     ]
    },
    {
     "data": {
      "application/vnd.jupyter.widget-view+json": {
       "model_id": "f46557de65854166b311a7533eba5669",
       "version_major": 2,
       "version_minor": 0
      },
      "text/plain": [
       "  0%|          | 0/96 [00:00<?, ?it/s]"
      ]
     },
     "metadata": {},
     "output_type": "display_data"
    },
    {
     "name": "stdout",
     "output_type": "stream",
     "text": [
      "{'eval_loss': 0.002072723815217614, 'eval_rouge1': 90.204, 'eval_rouge2': 0.2805, 'eval_rougeL': 90.2381, 'eval_rougeLsum': 90.2389, 'eval_gen_len': 2.426701570680628, 'eval_runtime': 472.1101, 'eval_samples_per_second': 0.809, 'eval_steps_per_second': 0.203, 'epoch': 2.0}\n",
      "{'loss': 0.0032, 'learning_rate': 1.2714392244593587e-05, 'epoch': 2.24}\n"
     ]
    },
    {
     "data": {
      "application/vnd.jupyter.widget-view+json": {
       "model_id": "887da7801de941cf8371a31c2b0a1a6f",
       "version_major": 2,
       "version_minor": 0
      },
      "text/plain": [
       "  0%|          | 0/96 [00:00<?, ?it/s]"
      ]
     },
     "metadata": {},
     "output_type": "display_data"
    },
    {
     "name": "stdout",
     "output_type": "stream",
     "text": [
      "{'eval_loss': 0.00198806868866086, 'eval_rouge1': 88.9274, 'eval_rouge2': 0.2805, 'eval_rougeL': 88.938, 'eval_rougeLsum': 88.9409, 'eval_gen_len': 2.418848167539267, 'eval_runtime': 472.8306, 'eval_samples_per_second': 0.808, 'eval_steps_per_second': 0.203, 'epoch': 3.0}\n",
      "{'train_runtime': 16516.7067, 'train_samples_per_second': 0.324, 'train_steps_per_second': 0.081, 'train_loss': 0.01490330504979952, 'epoch': 3.0}\n"
     ]
    },
    {
     "data": {
      "text/plain": [
       "TrainOutput(global_step=1341, training_loss=0.01490330504979952, metrics={'train_runtime': 16516.7067, 'train_samples_per_second': 0.324, 'train_steps_per_second': 0.081, 'train_loss': 0.01490330504979952, 'epoch': 3.0})"
      ]
     },
     "execution_count": 25,
     "metadata": {},
     "output_type": "execute_result"
    }
   ],
   "source": [
    "trainer.train()"
   ]
  },
  {
   "cell_type": "markdown",
   "metadata": {},
   "source": [
    "### Model 저장"
   ]
  },
  {
   "cell_type": "code",
   "execution_count": 26,
   "metadata": {},
   "outputs": [],
   "source": [
    "trainer.save_model(\"./image-captioning-output\")"
   ]
  },
  {
   "cell_type": "code",
   "execution_count": 27,
   "metadata": {},
   "outputs": [
    {
     "data": {
      "text/plain": [
       "('./image-captioning-output\\\\tokenizer_config.json',\n",
       " './image-captioning-output\\\\special_tokens_map.json',\n",
       " './image-captioning-output\\\\vocab.json',\n",
       " './image-captioning-output\\\\merges.txt',\n",
       " './image-captioning-output\\\\added_tokens.json',\n",
       " './image-captioning-output\\\\tokenizer.json')"
      ]
     },
     "execution_count": 27,
     "metadata": {},
     "output_type": "execute_result"
    }
   ],
   "source": [
    "tokenizer.save_pretrained(\"./image-captioning-output\")"
   ]
  },
  {
   "cell_type": "markdown",
   "metadata": {},
   "source": [
    "### Captioning Test"
   ]
  },
  {
   "cell_type": "code",
   "execution_count": 30,
   "metadata": {},
   "outputs": [
    {
     "name": "stdout",
     "output_type": "stream",
     "text": [
      "Generated Caption: etc.\n"
     ]
    }
   ],
   "source": [
    "from transformers import VisionEncoderDecoderModel, AutoTokenizer, AutoFeatureExtractor\n",
    "\n",
    "# 저장된 모델 디렉토리 경로\n",
    "model_dir = \"./image-captioning-output\"\n",
    "\n",
    "# 모델 불러오기\n",
    "model = VisionEncoderDecoderModel.from_pretrained(model_dir)\n",
    "tokenizer = AutoTokenizer.from_pretrained(model_dir)\n",
    "\n",
    "from PIL import Image\n",
    "\n",
    "# 이미지 경로\n",
    "image_path = \"C:/Ye_Dong/AI_Team_project_final/Data/test10/bag-8152319_1920.jpg\"\n",
    "\n",
    "# 이미지 로드\n",
    "image = Image.open(image_path)\n",
    "\n",
    "# 이미지 전처리\n",
    "encoder_inputs = feature_extractor(images=[image], return_tensors=\"pt\")\n",
    "\n",
    "# 이미지 캡션 생성\n",
    "output = model.generate(**encoder_inputs, max_length=50, num_beams=4, no_repeat_ngram_size=2, top_k=50, top_p=0.95)\n",
    "\n",
    "# 생성된 텍스트 디코딩\n",
    "generated_caption = tokenizer.decode(output[0], skip_special_tokens=True)\n",
    "\n",
    "# 생성된 캡션 출력\n",
    "print(\"Generated Caption:\", generated_caption)\n"
   ]
  }
 ],
 "metadata": {
  "kernelspec": {
   "display_name": "Python 3",
   "language": "python",
   "name": "python3"
  },
  "language_info": {
   "codemirror_mode": {
    "name": "ipython",
    "version": 3
   },
   "file_extension": ".py",
   "mimetype": "text/x-python",
   "name": "python",
   "nbconvert_exporter": "python",
   "pygments_lexer": "ipython3",
   "version": "3.11.4"
  },
  "orig_nbformat": 4
 },
 "nbformat": 4,
 "nbformat_minor": 2
}
